{
 "cells": [
  {
   "cell_type": "markdown",
   "id": "76554aac",
   "metadata": {},
   "source": [
    "## SCALERS"
   ]
  },
  {
   "cell_type": "markdown",
   "id": "52eaf5d5",
   "metadata": {},
   "source": [
    "Como la escala de nuestros datos no es la misma en todas las columnas usaremos diferentes tipos de escalado ( scalers) para ver cual se desarrolla mejor en nuestro modelo. Usaremos dos tipos: standard scaler y minmax scaler."
   ]
  },
  {
   "cell_type": "markdown",
   "id": "a2e475a2",
   "metadata": {},
   "source": [
    "El standard scaler transforma nuestros datos usando la siguiente fórmula:"
   ]
  },
  {
   "cell_type": "markdown",
   "id": "e24efed6",
   "metadata": {},
   "source": [
    "$$\n",
    "\\alpha =\\frac{ ({x}-\\mu)}{\\sigma}\n",
    "$$"
   ]
  },
  {
   "cell_type": "markdown",
   "id": "491b58fa",
   "metadata": {},
   "source": [
    "Y el min max scaler utiliza:"
   ]
  },
  {
   "cell_type": "markdown",
   "id": "42c8d443",
   "metadata": {},
   "source": [
    "$$\n",
    "\\alpha =\\frac{ ({x}-\\min)}{{\\max}-{\\min}}\n",
    "$$"
   ]
  }
 ],
 "metadata": {
  "kernelspec": {
   "display_name": "Python 3 (ipykernel)",
   "language": "python",
   "name": "python3"
  },
  "language_info": {
   "codemirror_mode": {
    "name": "ipython",
    "version": 3
   },
   "file_extension": ".py",
   "mimetype": "text/x-python",
   "name": "python",
   "nbconvert_exporter": "python",
   "pygments_lexer": "ipython3",
   "version": "3.9.7"
  }
 },
 "nbformat": 4,
 "nbformat_minor": 5
}
