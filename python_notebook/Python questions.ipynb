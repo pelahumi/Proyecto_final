{
 "cells": [
  {
   "cell_type": "markdown",
   "id": "747716a4",
   "metadata": {},
   "source": [
    "## Python questions"
   ]
  },
  {
   "cell_type": "markdown",
   "id": "ca80b42f",
   "metadata": {},
   "source": [
    "Importamos las librerías que vamos a necesitar"
   ]
  },
  {
   "cell_type": "code",
   "execution_count": 4,
   "id": "4724bd3e",
   "metadata": {},
   "outputs": [],
   "source": [
    "import pandas as pd\n",
    "import matplotlib.pyplot as plt\n",
    "import seaborn as sns"
   ]
  },
  {
   "cell_type": "markdown",
   "id": "ae0f175c",
   "metadata": {},
   "source": [
    "Leemos los datos"
   ]
  },
  {
   "cell_type": "code",
   "execution_count": 5,
   "id": "7e863960",
   "metadata": {},
   "outputs": [],
   "source": [
    "regresion = pd.read_excel('/Users/pela/Desktop/PROYECTO FINAL/data/regression_data.xls')"
   ]
  },
  {
   "cell_type": "markdown",
   "id": "97024a13",
   "metadata": {},
   "source": [
    "Usamos este comando para que nos muestre todas las columnas"
   ]
  },
  {
   "cell_type": "code",
   "execution_count": 6,
   "id": "160acd53",
   "metadata": {},
   "outputs": [],
   "source": [
    "pd.set_option('display.max_columns', None)"
   ]
  },
  {
   "cell_type": "markdown",
   "id": "bc286bf9",
   "metadata": {},
   "source": [
    "Visualizamos los primeros datos"
   ]
  },
  {
   "cell_type": "code",
   "execution_count": 7,
   "id": "0780df92",
   "metadata": {},
   "outputs": [
    {
     "data": {
      "text/html": [
       "<div>\n",
       "<style scoped>\n",
       "    .dataframe tbody tr th:only-of-type {\n",
       "        vertical-align: middle;\n",
       "    }\n",
       "\n",
       "    .dataframe tbody tr th {\n",
       "        vertical-align: top;\n",
       "    }\n",
       "\n",
       "    .dataframe thead th {\n",
       "        text-align: right;\n",
       "    }\n",
       "</style>\n",
       "<table border=\"1\" class=\"dataframe\">\n",
       "  <thead>\n",
       "    <tr style=\"text-align: right;\">\n",
       "      <th></th>\n",
       "      <th>id</th>\n",
       "      <th>date</th>\n",
       "      <th>bedrooms</th>\n",
       "      <th>bathrooms</th>\n",
       "      <th>sqft_living</th>\n",
       "      <th>sqft_lot</th>\n",
       "      <th>floors</th>\n",
       "      <th>waterfront</th>\n",
       "      <th>view</th>\n",
       "      <th>condition</th>\n",
       "      <th>grade</th>\n",
       "      <th>sqft_above</th>\n",
       "      <th>sqft_basement</th>\n",
       "      <th>yr_built</th>\n",
       "      <th>yr_renovated</th>\n",
       "      <th>zipcode</th>\n",
       "      <th>lat</th>\n",
       "      <th>long</th>\n",
       "      <th>sqft_living15</th>\n",
       "      <th>sqft_lot15</th>\n",
       "      <th>price</th>\n",
       "    </tr>\n",
       "  </thead>\n",
       "  <tbody>\n",
       "    <tr>\n",
       "      <th>0</th>\n",
       "      <td>7129300520</td>\n",
       "      <td>2014-10-13</td>\n",
       "      <td>3</td>\n",
       "      <td>1.00</td>\n",
       "      <td>1180</td>\n",
       "      <td>5650</td>\n",
       "      <td>1.0</td>\n",
       "      <td>0</td>\n",
       "      <td>0</td>\n",
       "      <td>3</td>\n",
       "      <td>7</td>\n",
       "      <td>1180</td>\n",
       "      <td>0</td>\n",
       "      <td>1955</td>\n",
       "      <td>0</td>\n",
       "      <td>98178</td>\n",
       "      <td>47.5112</td>\n",
       "      <td>-122.257</td>\n",
       "      <td>1340</td>\n",
       "      <td>5650</td>\n",
       "      <td>221900</td>\n",
       "    </tr>\n",
       "    <tr>\n",
       "      <th>1</th>\n",
       "      <td>6414100192</td>\n",
       "      <td>2014-12-09</td>\n",
       "      <td>3</td>\n",
       "      <td>2.25</td>\n",
       "      <td>2570</td>\n",
       "      <td>7242</td>\n",
       "      <td>2.0</td>\n",
       "      <td>0</td>\n",
       "      <td>0</td>\n",
       "      <td>3</td>\n",
       "      <td>7</td>\n",
       "      <td>2170</td>\n",
       "      <td>400</td>\n",
       "      <td>1951</td>\n",
       "      <td>1991</td>\n",
       "      <td>98125</td>\n",
       "      <td>47.7210</td>\n",
       "      <td>-122.319</td>\n",
       "      <td>1690</td>\n",
       "      <td>7639</td>\n",
       "      <td>538000</td>\n",
       "    </tr>\n",
       "    <tr>\n",
       "      <th>2</th>\n",
       "      <td>5631500400</td>\n",
       "      <td>2015-02-25</td>\n",
       "      <td>2</td>\n",
       "      <td>1.00</td>\n",
       "      <td>770</td>\n",
       "      <td>10000</td>\n",
       "      <td>1.0</td>\n",
       "      <td>0</td>\n",
       "      <td>0</td>\n",
       "      <td>3</td>\n",
       "      <td>6</td>\n",
       "      <td>770</td>\n",
       "      <td>0</td>\n",
       "      <td>1933</td>\n",
       "      <td>0</td>\n",
       "      <td>98028</td>\n",
       "      <td>47.7379</td>\n",
       "      <td>-122.233</td>\n",
       "      <td>2720</td>\n",
       "      <td>8062</td>\n",
       "      <td>180000</td>\n",
       "    </tr>\n",
       "    <tr>\n",
       "      <th>3</th>\n",
       "      <td>2487200875</td>\n",
       "      <td>2014-12-09</td>\n",
       "      <td>4</td>\n",
       "      <td>3.00</td>\n",
       "      <td>1960</td>\n",
       "      <td>5000</td>\n",
       "      <td>1.0</td>\n",
       "      <td>0</td>\n",
       "      <td>0</td>\n",
       "      <td>5</td>\n",
       "      <td>7</td>\n",
       "      <td>1050</td>\n",
       "      <td>910</td>\n",
       "      <td>1965</td>\n",
       "      <td>0</td>\n",
       "      <td>98136</td>\n",
       "      <td>47.5208</td>\n",
       "      <td>-122.393</td>\n",
       "      <td>1360</td>\n",
       "      <td>5000</td>\n",
       "      <td>604000</td>\n",
       "    </tr>\n",
       "    <tr>\n",
       "      <th>4</th>\n",
       "      <td>1954400510</td>\n",
       "      <td>2015-02-18</td>\n",
       "      <td>3</td>\n",
       "      <td>2.00</td>\n",
       "      <td>1680</td>\n",
       "      <td>8080</td>\n",
       "      <td>1.0</td>\n",
       "      <td>0</td>\n",
       "      <td>0</td>\n",
       "      <td>3</td>\n",
       "      <td>8</td>\n",
       "      <td>1680</td>\n",
       "      <td>0</td>\n",
       "      <td>1987</td>\n",
       "      <td>0</td>\n",
       "      <td>98074</td>\n",
       "      <td>47.6168</td>\n",
       "      <td>-122.045</td>\n",
       "      <td>1800</td>\n",
       "      <td>7503</td>\n",
       "      <td>510000</td>\n",
       "    </tr>\n",
       "  </tbody>\n",
       "</table>\n",
       "</div>"
      ],
      "text/plain": [
       "           id       date  bedrooms  bathrooms  sqft_living  sqft_lot  floors  \\\n",
       "0  7129300520 2014-10-13         3       1.00         1180      5650     1.0   \n",
       "1  6414100192 2014-12-09         3       2.25         2570      7242     2.0   \n",
       "2  5631500400 2015-02-25         2       1.00          770     10000     1.0   \n",
       "3  2487200875 2014-12-09         4       3.00         1960      5000     1.0   \n",
       "4  1954400510 2015-02-18         3       2.00         1680      8080     1.0   \n",
       "\n",
       "   waterfront  view  condition  grade  sqft_above  sqft_basement  yr_built  \\\n",
       "0           0     0          3      7        1180              0      1955   \n",
       "1           0     0          3      7        2170            400      1951   \n",
       "2           0     0          3      6         770              0      1933   \n",
       "3           0     0          5      7        1050            910      1965   \n",
       "4           0     0          3      8        1680              0      1987   \n",
       "\n",
       "   yr_renovated  zipcode      lat     long  sqft_living15  sqft_lot15   price  \n",
       "0             0    98178  47.5112 -122.257           1340        5650  221900  \n",
       "1          1991    98125  47.7210 -122.319           1690        7639  538000  \n",
       "2             0    98028  47.7379 -122.233           2720        8062  180000  \n",
       "3             0    98136  47.5208 -122.393           1360        5000  604000  \n",
       "4             0    98074  47.6168 -122.045           1800        7503  510000  "
      ]
     },
     "execution_count": 7,
     "metadata": {},
     "output_type": "execute_result"
    }
   ],
   "source": [
    "regresion.head()"
   ]
  },
  {
   "cell_type": "markdown",
   "id": "07074e78",
   "metadata": {},
   "source": [
    "Y también la información de cada columna"
   ]
  },
  {
   "cell_type": "code",
   "execution_count": 8,
   "id": "158d1243",
   "metadata": {},
   "outputs": [
    {
     "name": "stdout",
     "output_type": "stream",
     "text": [
      "<class 'pandas.core.frame.DataFrame'>\n",
      "RangeIndex: 21597 entries, 0 to 21596\n",
      "Data columns (total 21 columns):\n",
      " #   Column         Non-Null Count  Dtype         \n",
      "---  ------         --------------  -----         \n",
      " 0   id             21597 non-null  int64         \n",
      " 1   date           21597 non-null  datetime64[ns]\n",
      " 2   bedrooms       21597 non-null  int64         \n",
      " 3   bathrooms      21597 non-null  float64       \n",
      " 4   sqft_living    21597 non-null  int64         \n",
      " 5   sqft_lot       21597 non-null  int64         \n",
      " 6   floors         21597 non-null  float64       \n",
      " 7   waterfront     21597 non-null  int64         \n",
      " 8   view           21597 non-null  int64         \n",
      " 9   condition      21597 non-null  int64         \n",
      " 10  grade          21597 non-null  int64         \n",
      " 11  sqft_above     21597 non-null  int64         \n",
      " 12  sqft_basement  21597 non-null  int64         \n",
      " 13  yr_built       21597 non-null  int64         \n",
      " 14  yr_renovated   21597 non-null  int64         \n",
      " 15  zipcode        21597 non-null  int64         \n",
      " 16  lat            21597 non-null  float64       \n",
      " 17  long           21597 non-null  float64       \n",
      " 18  sqft_living15  21597 non-null  int64         \n",
      " 19  sqft_lot15     21597 non-null  int64         \n",
      " 20  price          21597 non-null  int64         \n",
      "dtypes: datetime64[ns](1), float64(4), int64(16)\n",
      "memory usage: 3.5 MB\n"
     ]
    }
   ],
   "source": [
    "regresion.info()"
   ]
  },
  {
   "cell_type": "markdown",
   "id": "c27b9d61",
   "metadata": {},
   "source": [
    "### Eliminamos la columna de date"
   ]
  },
  {
   "cell_type": "code",
   "execution_count": 9,
   "id": "62d45ea9",
   "metadata": {},
   "outputs": [],
   "source": [
    "regresion.drop(\"date\", axis=1, inplace=True)"
   ]
  },
  {
   "cell_type": "markdown",
   "id": "a738ce7a",
   "metadata": {},
   "source": [
    "Confirmamos si se eliminó correctamente"
   ]
  },
  {
   "cell_type": "code",
   "execution_count": 10,
   "id": "817896f2",
   "metadata": {},
   "outputs": [
    {
     "data": {
      "text/html": [
       "<div>\n",
       "<style scoped>\n",
       "    .dataframe tbody tr th:only-of-type {\n",
       "        vertical-align: middle;\n",
       "    }\n",
       "\n",
       "    .dataframe tbody tr th {\n",
       "        vertical-align: top;\n",
       "    }\n",
       "\n",
       "    .dataframe thead th {\n",
       "        text-align: right;\n",
       "    }\n",
       "</style>\n",
       "<table border=\"1\" class=\"dataframe\">\n",
       "  <thead>\n",
       "    <tr style=\"text-align: right;\">\n",
       "      <th></th>\n",
       "      <th>id</th>\n",
       "      <th>bedrooms</th>\n",
       "      <th>bathrooms</th>\n",
       "      <th>sqft_living</th>\n",
       "      <th>sqft_lot</th>\n",
       "      <th>floors</th>\n",
       "      <th>waterfront</th>\n",
       "      <th>view</th>\n",
       "      <th>condition</th>\n",
       "      <th>grade</th>\n",
       "      <th>sqft_above</th>\n",
       "      <th>sqft_basement</th>\n",
       "      <th>yr_built</th>\n",
       "      <th>yr_renovated</th>\n",
       "      <th>zipcode</th>\n",
       "      <th>lat</th>\n",
       "      <th>long</th>\n",
       "      <th>sqft_living15</th>\n",
       "      <th>sqft_lot15</th>\n",
       "      <th>price</th>\n",
       "    </tr>\n",
       "  </thead>\n",
       "  <tbody>\n",
       "    <tr>\n",
       "      <th>0</th>\n",
       "      <td>7129300520</td>\n",
       "      <td>3</td>\n",
       "      <td>1.00</td>\n",
       "      <td>1180</td>\n",
       "      <td>5650</td>\n",
       "      <td>1.0</td>\n",
       "      <td>0</td>\n",
       "      <td>0</td>\n",
       "      <td>3</td>\n",
       "      <td>7</td>\n",
       "      <td>1180</td>\n",
       "      <td>0</td>\n",
       "      <td>1955</td>\n",
       "      <td>0</td>\n",
       "      <td>98178</td>\n",
       "      <td>47.5112</td>\n",
       "      <td>-122.257</td>\n",
       "      <td>1340</td>\n",
       "      <td>5650</td>\n",
       "      <td>221900</td>\n",
       "    </tr>\n",
       "    <tr>\n",
       "      <th>1</th>\n",
       "      <td>6414100192</td>\n",
       "      <td>3</td>\n",
       "      <td>2.25</td>\n",
       "      <td>2570</td>\n",
       "      <td>7242</td>\n",
       "      <td>2.0</td>\n",
       "      <td>0</td>\n",
       "      <td>0</td>\n",
       "      <td>3</td>\n",
       "      <td>7</td>\n",
       "      <td>2170</td>\n",
       "      <td>400</td>\n",
       "      <td>1951</td>\n",
       "      <td>1991</td>\n",
       "      <td>98125</td>\n",
       "      <td>47.7210</td>\n",
       "      <td>-122.319</td>\n",
       "      <td>1690</td>\n",
       "      <td>7639</td>\n",
       "      <td>538000</td>\n",
       "    </tr>\n",
       "    <tr>\n",
       "      <th>2</th>\n",
       "      <td>5631500400</td>\n",
       "      <td>2</td>\n",
       "      <td>1.00</td>\n",
       "      <td>770</td>\n",
       "      <td>10000</td>\n",
       "      <td>1.0</td>\n",
       "      <td>0</td>\n",
       "      <td>0</td>\n",
       "      <td>3</td>\n",
       "      <td>6</td>\n",
       "      <td>770</td>\n",
       "      <td>0</td>\n",
       "      <td>1933</td>\n",
       "      <td>0</td>\n",
       "      <td>98028</td>\n",
       "      <td>47.7379</td>\n",
       "      <td>-122.233</td>\n",
       "      <td>2720</td>\n",
       "      <td>8062</td>\n",
       "      <td>180000</td>\n",
       "    </tr>\n",
       "    <tr>\n",
       "      <th>3</th>\n",
       "      <td>2487200875</td>\n",
       "      <td>4</td>\n",
       "      <td>3.00</td>\n",
       "      <td>1960</td>\n",
       "      <td>5000</td>\n",
       "      <td>1.0</td>\n",
       "      <td>0</td>\n",
       "      <td>0</td>\n",
       "      <td>5</td>\n",
       "      <td>7</td>\n",
       "      <td>1050</td>\n",
       "      <td>910</td>\n",
       "      <td>1965</td>\n",
       "      <td>0</td>\n",
       "      <td>98136</td>\n",
       "      <td>47.5208</td>\n",
       "      <td>-122.393</td>\n",
       "      <td>1360</td>\n",
       "      <td>5000</td>\n",
       "      <td>604000</td>\n",
       "    </tr>\n",
       "    <tr>\n",
       "      <th>4</th>\n",
       "      <td>1954400510</td>\n",
       "      <td>3</td>\n",
       "      <td>2.00</td>\n",
       "      <td>1680</td>\n",
       "      <td>8080</td>\n",
       "      <td>1.0</td>\n",
       "      <td>0</td>\n",
       "      <td>0</td>\n",
       "      <td>3</td>\n",
       "      <td>8</td>\n",
       "      <td>1680</td>\n",
       "      <td>0</td>\n",
       "      <td>1987</td>\n",
       "      <td>0</td>\n",
       "      <td>98074</td>\n",
       "      <td>47.6168</td>\n",
       "      <td>-122.045</td>\n",
       "      <td>1800</td>\n",
       "      <td>7503</td>\n",
       "      <td>510000</td>\n",
       "    </tr>\n",
       "  </tbody>\n",
       "</table>\n",
       "</div>"
      ],
      "text/plain": [
       "           id  bedrooms  bathrooms  sqft_living  sqft_lot  floors  waterfront  \\\n",
       "0  7129300520         3       1.00         1180      5650     1.0           0   \n",
       "1  6414100192         3       2.25         2570      7242     2.0           0   \n",
       "2  5631500400         2       1.00          770     10000     1.0           0   \n",
       "3  2487200875         4       3.00         1960      5000     1.0           0   \n",
       "4  1954400510         3       2.00         1680      8080     1.0           0   \n",
       "\n",
       "   view  condition  grade  sqft_above  sqft_basement  yr_built  yr_renovated  \\\n",
       "0     0          3      7        1180              0      1955             0   \n",
       "1     0          3      7        2170            400      1951          1991   \n",
       "2     0          3      6         770              0      1933             0   \n",
       "3     0          5      7        1050            910      1965             0   \n",
       "4     0          3      8        1680              0      1987             0   \n",
       "\n",
       "   zipcode      lat     long  sqft_living15  sqft_lot15   price  \n",
       "0    98178  47.5112 -122.257           1340        5650  221900  \n",
       "1    98125  47.7210 -122.319           1690        7639  538000  \n",
       "2    98028  47.7379 -122.233           2720        8062  180000  \n",
       "3    98136  47.5208 -122.393           1360        5000  604000  \n",
       "4    98074  47.6168 -122.045           1800        7503  510000  "
      ]
     },
     "execution_count": 10,
     "metadata": {},
     "output_type": "execute_result"
    }
   ],
   "source": [
    "regresion.head()"
   ]
  },
  {
   "cell_type": "markdown",
   "id": "3e24e996",
   "metadata": {},
   "source": [
    "### Número de filas"
   ]
  },
  {
   "cell_type": "code",
   "execution_count": 11,
   "id": "bcad0ccf",
   "metadata": {},
   "outputs": [
    {
     "data": {
      "text/plain": [
       "RangeIndex(start=0, stop=21597, step=1)"
      ]
     },
     "execution_count": 11,
     "metadata": {},
     "output_type": "execute_result"
    }
   ],
   "source": [
    "regresion.index"
   ]
  },
  {
   "cell_type": "markdown",
   "id": "534d14a1",
   "metadata": {},
   "source": [
    "Vemos que tenemos 21598 filas"
   ]
  },
  {
   "cell_type": "markdown",
   "id": "e01fa356",
   "metadata": {},
   "source": [
    "### Encontrar valores únicos"
   ]
  },
  {
   "cell_type": "markdown",
   "id": "d28585f1",
   "metadata": {},
   "source": [
    "#### Columna bedrooms"
   ]
  },
  {
   "cell_type": "code",
   "execution_count": 12,
   "id": "d71110b1",
   "metadata": {},
   "outputs": [
    {
     "data": {
      "text/plain": [
       "array([ 3,  2,  4,  5,  1,  6,  7,  8,  9, 11, 10, 33])"
      ]
     },
     "execution_count": 12,
     "metadata": {},
     "output_type": "execute_result"
    }
   ],
   "source": [
    "regresion[\"bedrooms\"].unique()"
   ]
  },
  {
   "cell_type": "markdown",
   "id": "60a447e6",
   "metadata": {},
   "source": [
    "#### Columna bathrooms\n"
   ]
  },
  {
   "cell_type": "code",
   "execution_count": 13,
   "id": "a36d99e1",
   "metadata": {},
   "outputs": [
    {
     "data": {
      "text/plain": [
       "array([1.  , 2.25, 3.  , 2.  , 4.5 , 1.5 , 2.5 , 1.75, 2.75, 3.25, 4.  ,\n",
       "       3.5 , 0.75, 4.75, 5.  , 4.25, 3.75, 1.25, 5.25, 6.  , 0.5 , 5.5 ,\n",
       "       6.75, 5.75, 8.  , 7.5 , 7.75, 6.25, 6.5 ])"
      ]
     },
     "execution_count": 13,
     "metadata": {},
     "output_type": "execute_result"
    }
   ],
   "source": [
    "regresion[\"bathrooms\"].unique()"
   ]
  },
  {
   "cell_type": "markdown",
   "id": "ea3b4f82",
   "metadata": {},
   "source": [
    "Vemos que hay datos que no son coherentes, como que hay 2,25 baños. Así que hay que hacer unos arreglos"
   ]
  },
  {
   "cell_type": "code",
   "execution_count": 14,
   "id": "906673f2",
   "metadata": {},
   "outputs": [],
   "source": [
    "regresion[\"bathrooms\"] = regresion[\"bathrooms\"].astype(\"int64\")"
   ]
  },
  {
   "cell_type": "code",
   "execution_count": 15,
   "id": "a9129c59",
   "metadata": {},
   "outputs": [
    {
     "data": {
      "text/plain": [
       "array([1, 2, 3, 4, 0, 5, 6, 8, 7])"
      ]
     },
     "execution_count": 15,
     "metadata": {},
     "output_type": "execute_result"
    }
   ],
   "source": [
    "regresion[\"bathrooms\"].unique()"
   ]
  },
  {
   "cell_type": "markdown",
   "id": "0c3f4820",
   "metadata": {},
   "source": [
    "#### Columna floors"
   ]
  },
  {
   "cell_type": "code",
   "execution_count": 16,
   "id": "94f0a997",
   "metadata": {},
   "outputs": [
    {
     "data": {
      "text/plain": [
       "array([1. , 2. , 1.5, 3. , 2.5, 3.5])"
      ]
     },
     "execution_count": 16,
     "metadata": {},
     "output_type": "execute_result"
    }
   ],
   "source": [
    "regresion[\"floors\"].unique()"
   ]
  },
  {
   "cell_type": "markdown",
   "id": "1fb62aaa",
   "metadata": {},
   "source": [
    "Arreglamos los datos también"
   ]
  },
  {
   "cell_type": "code",
   "execution_count": 17,
   "id": "1184adb0",
   "metadata": {},
   "outputs": [],
   "source": [
    "regresion[\"floors\"] = regresion[\"floors\"].astype(\"int64\")"
   ]
  },
  {
   "cell_type": "code",
   "execution_count": 18,
   "id": "90bf2f2b",
   "metadata": {},
   "outputs": [
    {
     "data": {
      "text/html": [
       "<div>\n",
       "<style scoped>\n",
       "    .dataframe tbody tr th:only-of-type {\n",
       "        vertical-align: middle;\n",
       "    }\n",
       "\n",
       "    .dataframe tbody tr th {\n",
       "        vertical-align: top;\n",
       "    }\n",
       "\n",
       "    .dataframe thead th {\n",
       "        text-align: right;\n",
       "    }\n",
       "</style>\n",
       "<table border=\"1\" class=\"dataframe\">\n",
       "  <thead>\n",
       "    <tr style=\"text-align: right;\">\n",
       "      <th></th>\n",
       "      <th>id</th>\n",
       "      <th>bedrooms</th>\n",
       "      <th>bathrooms</th>\n",
       "      <th>sqft_living</th>\n",
       "      <th>sqft_lot</th>\n",
       "      <th>floors</th>\n",
       "      <th>waterfront</th>\n",
       "      <th>view</th>\n",
       "      <th>condition</th>\n",
       "      <th>grade</th>\n",
       "      <th>sqft_above</th>\n",
       "      <th>sqft_basement</th>\n",
       "      <th>yr_built</th>\n",
       "      <th>yr_renovated</th>\n",
       "      <th>zipcode</th>\n",
       "      <th>lat</th>\n",
       "      <th>long</th>\n",
       "      <th>sqft_living15</th>\n",
       "      <th>sqft_lot15</th>\n",
       "      <th>price</th>\n",
       "    </tr>\n",
       "  </thead>\n",
       "  <tbody>\n",
       "    <tr>\n",
       "      <th>0</th>\n",
       "      <td>7129300520</td>\n",
       "      <td>3</td>\n",
       "      <td>1</td>\n",
       "      <td>1180</td>\n",
       "      <td>5650</td>\n",
       "      <td>1</td>\n",
       "      <td>0</td>\n",
       "      <td>0</td>\n",
       "      <td>3</td>\n",
       "      <td>7</td>\n",
       "      <td>1180</td>\n",
       "      <td>0</td>\n",
       "      <td>1955</td>\n",
       "      <td>0</td>\n",
       "      <td>98178</td>\n",
       "      <td>47.5112</td>\n",
       "      <td>-122.257</td>\n",
       "      <td>1340</td>\n",
       "      <td>5650</td>\n",
       "      <td>221900</td>\n",
       "    </tr>\n",
       "    <tr>\n",
       "      <th>1</th>\n",
       "      <td>6414100192</td>\n",
       "      <td>3</td>\n",
       "      <td>2</td>\n",
       "      <td>2570</td>\n",
       "      <td>7242</td>\n",
       "      <td>2</td>\n",
       "      <td>0</td>\n",
       "      <td>0</td>\n",
       "      <td>3</td>\n",
       "      <td>7</td>\n",
       "      <td>2170</td>\n",
       "      <td>400</td>\n",
       "      <td>1951</td>\n",
       "      <td>1991</td>\n",
       "      <td>98125</td>\n",
       "      <td>47.7210</td>\n",
       "      <td>-122.319</td>\n",
       "      <td>1690</td>\n",
       "      <td>7639</td>\n",
       "      <td>538000</td>\n",
       "    </tr>\n",
       "    <tr>\n",
       "      <th>2</th>\n",
       "      <td>5631500400</td>\n",
       "      <td>2</td>\n",
       "      <td>1</td>\n",
       "      <td>770</td>\n",
       "      <td>10000</td>\n",
       "      <td>1</td>\n",
       "      <td>0</td>\n",
       "      <td>0</td>\n",
       "      <td>3</td>\n",
       "      <td>6</td>\n",
       "      <td>770</td>\n",
       "      <td>0</td>\n",
       "      <td>1933</td>\n",
       "      <td>0</td>\n",
       "      <td>98028</td>\n",
       "      <td>47.7379</td>\n",
       "      <td>-122.233</td>\n",
       "      <td>2720</td>\n",
       "      <td>8062</td>\n",
       "      <td>180000</td>\n",
       "    </tr>\n",
       "    <tr>\n",
       "      <th>3</th>\n",
       "      <td>2487200875</td>\n",
       "      <td>4</td>\n",
       "      <td>3</td>\n",
       "      <td>1960</td>\n",
       "      <td>5000</td>\n",
       "      <td>1</td>\n",
       "      <td>0</td>\n",
       "      <td>0</td>\n",
       "      <td>5</td>\n",
       "      <td>7</td>\n",
       "      <td>1050</td>\n",
       "      <td>910</td>\n",
       "      <td>1965</td>\n",
       "      <td>0</td>\n",
       "      <td>98136</td>\n",
       "      <td>47.5208</td>\n",
       "      <td>-122.393</td>\n",
       "      <td>1360</td>\n",
       "      <td>5000</td>\n",
       "      <td>604000</td>\n",
       "    </tr>\n",
       "    <tr>\n",
       "      <th>4</th>\n",
       "      <td>1954400510</td>\n",
       "      <td>3</td>\n",
       "      <td>2</td>\n",
       "      <td>1680</td>\n",
       "      <td>8080</td>\n",
       "      <td>1</td>\n",
       "      <td>0</td>\n",
       "      <td>0</td>\n",
       "      <td>3</td>\n",
       "      <td>8</td>\n",
       "      <td>1680</td>\n",
       "      <td>0</td>\n",
       "      <td>1987</td>\n",
       "      <td>0</td>\n",
       "      <td>98074</td>\n",
       "      <td>47.6168</td>\n",
       "      <td>-122.045</td>\n",
       "      <td>1800</td>\n",
       "      <td>7503</td>\n",
       "      <td>510000</td>\n",
       "    </tr>\n",
       "  </tbody>\n",
       "</table>\n",
       "</div>"
      ],
      "text/plain": [
       "           id  bedrooms  bathrooms  sqft_living  sqft_lot  floors  waterfront  \\\n",
       "0  7129300520         3          1         1180      5650       1           0   \n",
       "1  6414100192         3          2         2570      7242       2           0   \n",
       "2  5631500400         2          1          770     10000       1           0   \n",
       "3  2487200875         4          3         1960      5000       1           0   \n",
       "4  1954400510         3          2         1680      8080       1           0   \n",
       "\n",
       "   view  condition  grade  sqft_above  sqft_basement  yr_built  yr_renovated  \\\n",
       "0     0          3      7        1180              0      1955             0   \n",
       "1     0          3      7        2170            400      1951          1991   \n",
       "2     0          3      6         770              0      1933             0   \n",
       "3     0          5      7        1050            910      1965             0   \n",
       "4     0          3      8        1680              0      1987             0   \n",
       "\n",
       "   zipcode      lat     long  sqft_living15  sqft_lot15   price  \n",
       "0    98178  47.5112 -122.257           1340        5650  221900  \n",
       "1    98125  47.7210 -122.319           1690        7639  538000  \n",
       "2    98028  47.7379 -122.233           2720        8062  180000  \n",
       "3    98136  47.5208 -122.393           1360        5000  604000  \n",
       "4    98074  47.6168 -122.045           1800        7503  510000  "
      ]
     },
     "execution_count": 18,
     "metadata": {},
     "output_type": "execute_result"
    }
   ],
   "source": [
    "regresion.head()"
   ]
  },
  {
   "cell_type": "code",
   "execution_count": 19,
   "id": "38348789",
   "metadata": {},
   "outputs": [
    {
     "data": {
      "text/plain": [
       "array([1, 2, 3])"
      ]
     },
     "execution_count": 19,
     "metadata": {},
     "output_type": "execute_result"
    }
   ],
   "source": [
    "regresion[\"floors\"].unique()"
   ]
  },
  {
   "cell_type": "markdown",
   "id": "a374def7",
   "metadata": {},
   "source": [
    "#### Columna condition"
   ]
  },
  {
   "cell_type": "code",
   "execution_count": 20,
   "id": "57aff6c9",
   "metadata": {},
   "outputs": [
    {
     "data": {
      "text/plain": [
       "array([3, 5, 4, 1, 2])"
      ]
     },
     "execution_count": 20,
     "metadata": {},
     "output_type": "execute_result"
    }
   ],
   "source": [
    "regresion[\"condition\"].unique()"
   ]
  },
  {
   "cell_type": "markdown",
   "id": "686889b9",
   "metadata": {},
   "source": [
    "#### Columna grade"
   ]
  },
  {
   "cell_type": "code",
   "execution_count": 21,
   "id": "ad2f105d",
   "metadata": {},
   "outputs": [
    {
     "data": {
      "text/plain": [
       "array([ 7,  6,  8, 11,  9,  5, 10, 12,  4,  3, 13])"
      ]
     },
     "execution_count": 21,
     "metadata": {},
     "output_type": "execute_result"
    }
   ],
   "source": [
    "regresion[\"grade\"].unique()"
   ]
  },
  {
   "cell_type": "markdown",
   "id": "96edcb80",
   "metadata": {},
   "source": [
    "### Ordenamos de mayor a menor en función del precio"
   ]
  },
  {
   "cell_type": "code",
   "execution_count": 22,
   "id": "30a7737d",
   "metadata": {},
   "outputs": [],
   "source": [
    "regresion_sorted = regresion.sort_values(\"price\", ascending=False)"
   ]
  },
  {
   "cell_type": "markdown",
   "id": "0bc9d384",
   "metadata": {},
   "source": [
    "Mostramos los id de las 10 primeras filas que son las casas más caras"
   ]
  },
  {
   "cell_type": "code",
   "execution_count": 23,
   "id": "58ba84aa",
   "metadata": {},
   "outputs": [
    {
     "data": {
      "text/plain": [
       "7245    6762700020\n",
       "3910    9808700762\n",
       "9245    9208900037\n",
       "4407    2470100110\n",
       "1446    8907500070\n",
       "1313    7558700030\n",
       "1162    1247600105\n",
       "8085    1924059029\n",
       "2624    7738500731\n",
       "8629    3835500195\n",
       "Name: id, dtype: int64"
      ]
     },
     "execution_count": 23,
     "metadata": {},
     "output_type": "execute_result"
    }
   ],
   "source": [
    "regresion_sorted[\"id\"].head(10)"
   ]
  },
  {
   "cell_type": "markdown",
   "id": "689a68bb",
   "metadata": {},
   "source": [
    "### Precio medio de las casas"
   ]
  },
  {
   "cell_type": "code",
   "execution_count": 24,
   "id": "72fde5a3",
   "metadata": {},
   "outputs": [
    {
     "data": {
      "text/plain": [
       "540296.57"
      ]
     },
     "execution_count": 24,
     "metadata": {},
     "output_type": "execute_result"
    }
   ],
   "source": [
    "round(regresion[\"price\"].mean(), 2)"
   ]
  },
  {
   "cell_type": "markdown",
   "id": "e0152162",
   "metadata": {},
   "source": [
    "### Agrupación"
   ]
  },
  {
   "cell_type": "markdown",
   "id": "d64ceeb7",
   "metadata": {},
   "source": [
    "#### Media del precio agrupados por dormitorios"
   ]
  },
  {
   "cell_type": "code",
   "execution_count": 25,
   "id": "bf54841f",
   "metadata": {},
   "outputs": [
    {
     "data": {
      "text/plain": [
       "bedrooms\n",
       "1      318239.46\n",
       "2      401387.75\n",
       "3      466276.59\n",
       "4      635564.68\n",
       "5      786874.13\n",
       "6      825853.50\n",
       "7      951447.82\n",
       "8     1105076.92\n",
       "9      893999.83\n",
       "10     820000.00\n",
       "11     520000.00\n",
       "33     640000.00\n",
       "Name: price, dtype: float64"
      ]
     },
     "execution_count": 25,
     "metadata": {},
     "output_type": "execute_result"
    }
   ],
   "source": [
    "bedrooms_price = regresion.groupby(\"bedrooms\")[\"price\"].mean()\n",
    "round(bedrooms_price, 2)"
   ]
  },
  {
   "cell_type": "markdown",
   "id": "a9590d18",
   "metadata": {},
   "source": [
    "#### Media de sqft_living agrupados por dormitorios"
   ]
  },
  {
   "cell_type": "code",
   "execution_count": 26,
   "id": "097f4056",
   "metadata": {},
   "outputs": [
    {
     "data": {
      "text/plain": [
       "bedrooms\n",
       "1      888.15\n",
       "2     1239.75\n",
       "3     1805.84\n",
       "4     2554.65\n",
       "5     3047.55\n",
       "6     3284.34\n",
       "7     3974.21\n",
       "8     3800.00\n",
       "9     3775.00\n",
       "10    3706.67\n",
       "11    3000.00\n",
       "33    1620.00\n",
       "Name: sqft_living, dtype: float64"
      ]
     },
     "execution_count": 26,
     "metadata": {},
     "output_type": "execute_result"
    }
   ],
   "source": [
    "bedrooms_living = regresion.groupby(\"bedrooms\")[\"sqft_living\"].mean()\n",
    "round(bedrooms_living, 2)"
   ]
  },
  {
   "cell_type": "markdown",
   "id": "db3794e6",
   "metadata": {},
   "source": [
    "#### Media del precio con y sin waterfront"
   ]
  },
  {
   "cell_type": "code",
   "execution_count": 27,
   "id": "2419995d",
   "metadata": {},
   "outputs": [
    {
     "data": {
      "text/plain": [
       "waterfront\n",
       "0     531762.32\n",
       "1    1662524.18\n",
       "Name: price, dtype: float64"
      ]
     },
     "execution_count": 27,
     "metadata": {},
     "output_type": "execute_result"
    }
   ],
   "source": [
    "waterfront = regresion.groupby(\"waterfront\")[\"price\"].mean()\n",
    "round(waterfront, 2)"
   ]
  },
  {
   "cell_type": "markdown",
   "id": "816ed73b",
   "metadata": {},
   "source": [
    "#### Correlacion entre condition y grade"
   ]
  },
  {
   "cell_type": "code",
   "execution_count": 28,
   "id": "435cf922",
   "metadata": {},
   "outputs": [
    {
     "data": {
      "text/html": [
       "<div>\n",
       "<style scoped>\n",
       "    .dataframe tbody tr th:only-of-type {\n",
       "        vertical-align: middle;\n",
       "    }\n",
       "\n",
       "    .dataframe tbody tr th {\n",
       "        vertical-align: top;\n",
       "    }\n",
       "\n",
       "    .dataframe thead th {\n",
       "        text-align: right;\n",
       "    }\n",
       "</style>\n",
       "<table border=\"1\" class=\"dataframe\">\n",
       "  <thead>\n",
       "    <tr style=\"text-align: right;\">\n",
       "      <th></th>\n",
       "      <th>condition</th>\n",
       "      <th>grade</th>\n",
       "    </tr>\n",
       "  </thead>\n",
       "  <tbody>\n",
       "    <tr>\n",
       "      <th>condition</th>\n",
       "      <td>1.000000</td>\n",
       "      <td>-0.146896</td>\n",
       "    </tr>\n",
       "    <tr>\n",
       "      <th>grade</th>\n",
       "      <td>-0.146896</td>\n",
       "      <td>1.000000</td>\n",
       "    </tr>\n",
       "  </tbody>\n",
       "</table>\n",
       "</div>"
      ],
      "text/plain": [
       "           condition     grade\n",
       "condition   1.000000 -0.146896\n",
       "grade      -0.146896  1.000000"
      ]
     },
     "execution_count": 28,
     "metadata": {},
     "output_type": "execute_result"
    }
   ],
   "source": [
    "regresion[[\"condition\", \"grade\"]].corr()"
   ]
  },
  {
   "cell_type": "markdown",
   "id": "06d115e2",
   "metadata": {},
   "source": [
    "Vemos que hay muy poca correlacion entre ellos, y que además es una correlación negativa"
   ]
  },
  {
   "cell_type": "code",
   "execution_count": 29,
   "id": "35b0756f",
   "metadata": {},
   "outputs": [
    {
     "data": {
      "image/png": "[encoded data removed]",
      "text/plain": [
       "<Figure size 432x288 with 1 Axes>"
      ]
     },
     "metadata": {
      "needs_background": "light"
     },
     "output_type": "display_data"
    }
   ],
   "source": [
    "x = regresion[\"condition\"]\n",
    "y = regresion[\"grade\"]\n",
    "plt.scatter(x, y)\n",
    "plt.show()"
   ]
  },
  {
   "cell_type": "code",
   "execution_count": null,
   "id": "9092bd2f",
   "metadata": {},
   "outputs": [],
   "source": []
  },
  {
   "cell_type": "markdown",
   "id": "fc720aa9",
   "metadata": {},
   "source": [
    "#### Número de casas en cada categoría"
   ]
  },
  {
   "cell_type": "code",
   "execution_count": 30,
   "id": "a4f58ccd",
   "metadata": {},
   "outputs": [
    {
     "data": {
      "text/html": [
       "<div>\n",
       "<style scoped>\n",
       "    .dataframe tbody tr th:only-of-type {\n",
       "        vertical-align: middle;\n",
       "    }\n",
       "\n",
       "    .dataframe tbody tr th {\n",
       "        vertical-align: top;\n",
       "    }\n",
       "\n",
       "    .dataframe thead th {\n",
       "        text-align: right;\n",
       "    }\n",
       "</style>\n",
       "<table border=\"1\" class=\"dataframe\">\n",
       "  <thead>\n",
       "    <tr style=\"text-align: right;\">\n",
       "      <th></th>\n",
       "      <th>id</th>\n",
       "      <th>bedrooms</th>\n",
       "      <th>bathrooms</th>\n",
       "      <th>sqft_living</th>\n",
       "      <th>sqft_lot</th>\n",
       "      <th>floors</th>\n",
       "      <th>waterfront</th>\n",
       "      <th>view</th>\n",
       "      <th>grade</th>\n",
       "      <th>sqft_above</th>\n",
       "      <th>sqft_basement</th>\n",
       "      <th>yr_built</th>\n",
       "      <th>yr_renovated</th>\n",
       "      <th>zipcode</th>\n",
       "      <th>lat</th>\n",
       "      <th>long</th>\n",
       "      <th>sqft_living15</th>\n",
       "      <th>sqft_lot15</th>\n",
       "      <th>price</th>\n",
       "    </tr>\n",
       "    <tr>\n",
       "      <th>condition</th>\n",
       "      <th></th>\n",
       "      <th></th>\n",
       "      <th></th>\n",
       "      <th></th>\n",
       "      <th></th>\n",
       "      <th></th>\n",
       "      <th></th>\n",
       "      <th></th>\n",
       "      <th></th>\n",
       "      <th></th>\n",
       "      <th></th>\n",
       "      <th></th>\n",
       "      <th></th>\n",
       "      <th></th>\n",
       "      <th></th>\n",
       "      <th></th>\n",
       "      <th></th>\n",
       "      <th></th>\n",
       "      <th></th>\n",
       "    </tr>\n",
       "  </thead>\n",
       "  <tbody>\n",
       "    <tr>\n",
       "      <th>1</th>\n",
       "      <td>140730119470</td>\n",
       "      <td>74</td>\n",
       "      <td>31</td>\n",
       "      <td>36190</td>\n",
       "      <td>643057</td>\n",
       "      <td>31</td>\n",
       "      <td>1</td>\n",
       "      <td>9</td>\n",
       "      <td>173</td>\n",
       "      <td>34040</td>\n",
       "      <td>2150</td>\n",
       "      <td>55983</td>\n",
       "      <td>1992</td>\n",
       "      <td>2844751</td>\n",
       "      <td>1379.7869</td>\n",
       "      <td>-3545.929</td>\n",
       "      <td>52460</td>\n",
       "      <td>275357</td>\n",
       "      <td>9890950</td>\n",
       "    </tr>\n",
       "    <tr>\n",
       "      <th>2</th>\n",
       "      <td>708512183727</td>\n",
       "      <td>486</td>\n",
       "      <td>210</td>\n",
       "      <td>241540</td>\n",
       "      <td>5560098</td>\n",
       "      <td>189</td>\n",
       "      <td>1</td>\n",
       "      <td>13</td>\n",
       "      <td>1112</td>\n",
       "      <td>212910</td>\n",
       "      <td>28630</td>\n",
       "      <td>331315</td>\n",
       "      <td>7906</td>\n",
       "      <td>16675669</td>\n",
       "      <td>8079.2444</td>\n",
       "      <td>-20780.794</td>\n",
       "      <td>269537</td>\n",
       "      <td>3333736</td>\n",
       "      <td>55790389</td>\n",
       "    </tr>\n",
       "    <tr>\n",
       "      <th>3</th>\n",
       "      <td>65137361487580</td>\n",
       "      <td>47342</td>\n",
       "      <td>25963</td>\n",
       "      <td>30131861</td>\n",
       "      <td>206747281</td>\n",
       "      <td>22221</td>\n",
       "      <td>91</td>\n",
       "      <td>2990</td>\n",
       "      <td>109739</td>\n",
       "      <td>26733240</td>\n",
       "      <td>3398621</td>\n",
       "      <td>27751920</td>\n",
       "      <td>1471221</td>\n",
       "      <td>1375062649</td>\n",
       "      <td>666852.9679</td>\n",
       "      <td>-1713286.650</td>\n",
       "      <td>28655203</td>\n",
       "      <td>175235613</td>\n",
       "      <td>7601266264</td>\n",
       "    </tr>\n",
       "    <tr>\n",
       "      <th>4</th>\n",
       "      <td>25306064741895</td>\n",
       "      <td>19063</td>\n",
       "      <td>8756</td>\n",
       "      <td>11078148</td>\n",
       "      <td>90949053</td>\n",
       "      <td>6801</td>\n",
       "      <td>50</td>\n",
       "      <td>1496</td>\n",
       "      <td>41911</td>\n",
       "      <td>9032357</td>\n",
       "      <td>2045791</td>\n",
       "      <td>11117553</td>\n",
       "      <td>269808</td>\n",
       "      <td>556757620</td>\n",
       "      <td>269922.8534</td>\n",
       "      <td>-693886.078</td>\n",
       "      <td>10793644</td>\n",
       "      <td>77781741</td>\n",
       "      <td>2959842755</td>\n",
       "    </tr>\n",
       "    <tr>\n",
       "      <th>5</th>\n",
       "      <td>7631834660318</td>\n",
       "      <td>5886</td>\n",
       "      <td>2849</td>\n",
       "      <td>3440972</td>\n",
       "      <td>22202442</td>\n",
       "      <td>1987</td>\n",
       "      <td>20</td>\n",
       "      <td>552</td>\n",
       "      <td>12453</td>\n",
       "      <td>2615779</td>\n",
       "      <td>825193</td>\n",
       "      <td>3310909</td>\n",
       "      <td>73259</td>\n",
       "      <td>166848837</td>\n",
       "      <td>80920.4758</td>\n",
       "      <td>-207955.929</td>\n",
       "      <td>3134195</td>\n",
       "      <td>18914202</td>\n",
       "      <td>1041994740</td>\n",
       "    </tr>\n",
       "  </tbody>\n",
       "</table>\n",
       "</div>"
      ],
      "text/plain": [
       "                       id  bedrooms  bathrooms  sqft_living   sqft_lot  \\\n",
       "condition                                                                \n",
       "1            140730119470        74         31        36190     643057   \n",
       "2            708512183727       486        210       241540    5560098   \n",
       "3          65137361487580     47342      25963     30131861  206747281   \n",
       "4          25306064741895     19063       8756     11078148   90949053   \n",
       "5           7631834660318      5886       2849      3440972   22202442   \n",
       "\n",
       "           floors  waterfront  view   grade  sqft_above  sqft_basement  \\\n",
       "condition                                                                \n",
       "1              31           1     9     173       34040           2150   \n",
       "2             189           1    13    1112      212910          28630   \n",
       "3           22221          91  2990  109739    26733240        3398621   \n",
       "4            6801          50  1496   41911     9032357        2045791   \n",
       "5            1987          20   552   12453     2615779         825193   \n",
       "\n",
       "           yr_built  yr_renovated     zipcode          lat         long  \\\n",
       "condition                                                                 \n",
       "1             55983          1992     2844751    1379.7869    -3545.929   \n",
       "2            331315          7906    16675669    8079.2444   -20780.794   \n",
       "3          27751920       1471221  1375062649  666852.9679 -1713286.650   \n",
       "4          11117553        269808   556757620  269922.8534  -693886.078   \n",
       "5           3310909         73259   166848837   80920.4758  -207955.929   \n",
       "\n",
       "           sqft_living15  sqft_lot15       price  \n",
       "condition                                         \n",
       "1                  52460      275357     9890950  \n",
       "2                 269537     3333736    55790389  \n",
       "3               28655203   175235613  7601266264  \n",
       "4               10793644    77781741  2959842755  \n",
       "5                3134195    18914202  1041994740  "
      ]
     },
     "execution_count": 30,
     "metadata": {},
     "output_type": "execute_result"
    }
   ],
   "source": [
    "houses_condition = regresion.groupby(\"condition\").sum()\n",
    "houses_condition"
   ]
  },
  {
   "cell_type": "markdown",
   "id": "c3520868",
   "metadata": {},
   "source": [
    "### Búsqueda de casas con determinadas características"
   ]
  },
  {
   "cell_type": "code",
   "execution_count": 31,
   "id": "f5954081",
   "metadata": {},
   "outputs": [],
   "source": [
    "houses = regresion[regresion[\"bedrooms\"].isin([3, 4])]"
   ]
  },
  {
   "cell_type": "code",
   "execution_count": 32,
   "id": "bddfc65e",
   "metadata": {},
   "outputs": [],
   "source": [
    "houses = houses[houses[\"bathrooms\"].apply(lambda x: x > 3)]"
   ]
  },
  {
   "cell_type": "code",
   "execution_count": 33,
   "id": "f5a5159e",
   "metadata": {},
   "outputs": [],
   "source": [
    "houses = houses[houses[\"floors\"].isin([1])]"
   ]
  },
  {
   "cell_type": "code",
   "execution_count": 34,
   "id": "b0d3ecdf",
   "metadata": {},
   "outputs": [],
   "source": [
    "houses = houses[houses[\"waterfront\"].isin([0])]"
   ]
  },
  {
   "cell_type": "code",
   "execution_count": 35,
   "id": "38236eba",
   "metadata": {},
   "outputs": [],
   "source": [
    "houses = houses[houses[\"condition\"].apply(lambda x: x >= 3)]"
   ]
  },
  {
   "cell_type": "code",
   "execution_count": 36,
   "id": "73d8eeff",
   "metadata": {},
   "outputs": [],
   "source": [
    "houses = houses[houses[\"grade\"].apply(lambda x: x >= 5)]"
   ]
  },
  {
   "cell_type": "code",
   "execution_count": 37,
   "id": "7c111193",
   "metadata": {},
   "outputs": [],
   "source": [
    "houses = houses[houses[\"price\"].apply(lambda x: x < 300000)]"
   ]
  },
  {
   "cell_type": "code",
   "execution_count": 38,
   "id": "cf3ef423",
   "metadata": {
    "scrolled": true
   },
   "outputs": [
    {
     "data": {
      "text/html": [
       "<div>\n",
       "<style scoped>\n",
       "    .dataframe tbody tr th:only-of-type {\n",
       "        vertical-align: middle;\n",
       "    }\n",
       "\n",
       "    .dataframe tbody tr th {\n",
       "        vertical-align: top;\n",
       "    }\n",
       "\n",
       "    .dataframe thead th {\n",
       "        text-align: right;\n",
       "    }\n",
       "</style>\n",
       "<table border=\"1\" class=\"dataframe\">\n",
       "  <thead>\n",
       "    <tr style=\"text-align: right;\">\n",
       "      <th></th>\n",
       "      <th>id</th>\n",
       "      <th>bedrooms</th>\n",
       "      <th>bathrooms</th>\n",
       "      <th>sqft_living</th>\n",
       "      <th>sqft_lot</th>\n",
       "      <th>floors</th>\n",
       "      <th>waterfront</th>\n",
       "      <th>view</th>\n",
       "      <th>condition</th>\n",
       "      <th>grade</th>\n",
       "      <th>sqft_above</th>\n",
       "      <th>sqft_basement</th>\n",
       "      <th>yr_built</th>\n",
       "      <th>yr_renovated</th>\n",
       "      <th>zipcode</th>\n",
       "      <th>lat</th>\n",
       "      <th>long</th>\n",
       "      <th>sqft_living15</th>\n",
       "      <th>sqft_lot15</th>\n",
       "      <th>price</th>\n",
       "    </tr>\n",
       "  </thead>\n",
       "  <tbody>\n",
       "  </tbody>\n",
       "</table>\n",
       "</div>"
      ],
      "text/plain": [
       "Empty DataFrame\n",
       "Columns: [id, bedrooms, bathrooms, sqft_living, sqft_lot, floors, waterfront, view, condition, grade, sqft_above, sqft_basement, yr_built, yr_renovated, zipcode, lat, long, sqft_living15, sqft_lot15, price]\n",
       "Index: []"
      ]
     },
     "execution_count": 38,
     "metadata": {},
     "output_type": "execute_result"
    }
   ],
   "source": [
    "houses"
   ]
  },
  {
   "cell_type": "raw",
   "id": "f1667eed",
   "metadata": {},
   "source": [
    "Otra forma:"
   ]
  },
  {
   "cell_type": "code",
   "execution_count": 39,
   "id": "e7bb3649",
   "metadata": {},
   "outputs": [
    {
     "data": {
      "text/html": [
       "<div>\n",
       "<style scoped>\n",
       "    .dataframe tbody tr th:only-of-type {\n",
       "        vertical-align: middle;\n",
       "    }\n",
       "\n",
       "    .dataframe tbody tr th {\n",
       "        vertical-align: top;\n",
       "    }\n",
       "\n",
       "    .dataframe thead th {\n",
       "        text-align: right;\n",
       "    }\n",
       "</style>\n",
       "<table border=\"1\" class=\"dataframe\">\n",
       "  <thead>\n",
       "    <tr style=\"text-align: right;\">\n",
       "      <th></th>\n",
       "      <th>id</th>\n",
       "      <th>bedrooms</th>\n",
       "      <th>bathrooms</th>\n",
       "      <th>sqft_living</th>\n",
       "      <th>sqft_lot</th>\n",
       "      <th>floors</th>\n",
       "      <th>waterfront</th>\n",
       "      <th>view</th>\n",
       "      <th>condition</th>\n",
       "      <th>grade</th>\n",
       "      <th>sqft_above</th>\n",
       "      <th>sqft_basement</th>\n",
       "      <th>yr_built</th>\n",
       "      <th>yr_renovated</th>\n",
       "      <th>zipcode</th>\n",
       "      <th>lat</th>\n",
       "      <th>long</th>\n",
       "      <th>sqft_living15</th>\n",
       "      <th>sqft_lot15</th>\n",
       "      <th>price</th>\n",
       "    </tr>\n",
       "  </thead>\n",
       "  <tbody>\n",
       "  </tbody>\n",
       "</table>\n",
       "</div>"
      ],
      "text/plain": [
       "Empty DataFrame\n",
       "Columns: [id, bedrooms, bathrooms, sqft_living, sqft_lot, floors, waterfront, view, condition, grade, sqft_above, sqft_basement, yr_built, yr_renovated, zipcode, lat, long, sqft_living15, sqft_lot15, price]\n",
       "Index: []"
      ]
     },
     "execution_count": 39,
     "metadata": {},
     "output_type": "execute_result"
    }
   ],
   "source": [
    "regresion[((regresion.bedrooms == 3) | (regresion.bedrooms == 4)) & (regresion.bathrooms > 3) & (regresion.floors == 1) & (regresion.waterfront == 0) & (regresion.condition >= 3) & (regresion.grade >= 5) & (regresion.price <= 300000)]"
   ]
  },
  {
   "cell_type": "markdown",
   "id": "30db8389",
   "metadata": {},
   "source": [
    "### Casas con el precio que duplica la media"
   ]
  },
  {
   "cell_type": "code",
   "execution_count": 40,
   "id": "a5209832",
   "metadata": {},
   "outputs": [],
   "source": [
    "mean = regresion[\"price\"].mean()\n",
    "mean = round(mean, 2)"
   ]
  },
  {
   "cell_type": "code",
   "execution_count": 41,
   "id": "e4c5a313",
   "metadata": {},
   "outputs": [],
   "source": [
    "price = regresion[regresion[\"price\"].apply(lambda x: x > mean)]"
   ]
  },
  {
   "cell_type": "markdown",
   "id": "1161754b",
   "metadata": {},
   "source": [
    "### Diferencia de precio con 3 y 4 dormitorios"
   ]
  },
  {
   "cell_type": "code",
   "execution_count": 42,
   "id": "0aacd0f2",
   "metadata": {
    "scrolled": true
   },
   "outputs": [
    {
     "data": {
      "text/plain": [
       "bedrooms\n",
       "3    466276.590900\n",
       "4    635564.677129\n",
       "Name: price, dtype: float64"
      ]
     },
     "execution_count": 42,
     "metadata": {},
     "output_type": "execute_result"
    }
   ],
   "source": [
    "houses = regresion[(regresion.bedrooms == 3) | (regresion.bedrooms == 4)]\n",
    "houses.groupby(\"bedrooms\")[\"price\"].mean()"
   ]
  },
  {
   "cell_type": "markdown",
   "id": "e60dcaca",
   "metadata": {},
   "source": [
    "### Diferentes localizaciones"
   ]
  },
  {
   "cell_type": "code",
   "execution_count": 43,
   "id": "6053aecb",
   "metadata": {},
   "outputs": [
    {
     "data": {
      "text/plain": [
       "array([98178, 98125, 98028, 98136, 98074, 98053, 98003, 98198, 98146,\n",
       "       98038, 98007, 98115, 98107, 98126, 98019, 98103, 98002, 98133,\n",
       "       98040, 98092, 98030, 98119, 98112, 98052, 98027, 98117, 98058,\n",
       "       98001, 98056, 98166, 98023, 98070, 98148, 98105, 98042, 98008,\n",
       "       98059, 98122, 98144, 98004, 98005, 98034, 98075, 98116, 98010,\n",
       "       98118, 98199, 98032, 98045, 98102, 98077, 98108, 98168, 98177,\n",
       "       98065, 98029, 98006, 98109, 98022, 98033, 98155, 98024, 98011,\n",
       "       98031, 98106, 98072, 98188, 98014, 98055, 98039])"
      ]
     },
     "execution_count": 43,
     "metadata": {},
     "output_type": "execute_result"
    }
   ],
   "source": [
    "regresion.zipcode.unique()"
   ]
  },
  {
   "cell_type": "markdown",
   "id": "98f4a722",
   "metadata": {},
   "source": [
    "### Casas que fueron reformadas"
   ]
  },
  {
   "cell_type": "code",
   "execution_count": 44,
   "id": "6313be2a",
   "metadata": {},
   "outputs": [
    {
     "data": {
      "text/html": [
       "<div>\n",
       "<style scoped>\n",
       "    .dataframe tbody tr th:only-of-type {\n",
       "        vertical-align: middle;\n",
       "    }\n",
       "\n",
       "    .dataframe tbody tr th {\n",
       "        vertical-align: top;\n",
       "    }\n",
       "\n",
       "    .dataframe thead th {\n",
       "        text-align: right;\n",
       "    }\n",
       "</style>\n",
       "<table border=\"1\" class=\"dataframe\">\n",
       "  <thead>\n",
       "    <tr style=\"text-align: right;\">\n",
       "      <th></th>\n",
       "      <th>id</th>\n",
       "      <th>bedrooms</th>\n",
       "      <th>bathrooms</th>\n",
       "      <th>sqft_living</th>\n",
       "      <th>sqft_lot</th>\n",
       "      <th>floors</th>\n",
       "      <th>waterfront</th>\n",
       "      <th>view</th>\n",
       "      <th>condition</th>\n",
       "      <th>grade</th>\n",
       "      <th>sqft_above</th>\n",
       "      <th>sqft_basement</th>\n",
       "      <th>yr_built</th>\n",
       "      <th>yr_renovated</th>\n",
       "      <th>zipcode</th>\n",
       "      <th>lat</th>\n",
       "      <th>long</th>\n",
       "      <th>sqft_living15</th>\n",
       "      <th>sqft_lot15</th>\n",
       "      <th>price</th>\n",
       "    </tr>\n",
       "  </thead>\n",
       "  <tbody>\n",
       "    <tr>\n",
       "      <th>1</th>\n",
       "      <td>6414100192</td>\n",
       "      <td>3</td>\n",
       "      <td>2</td>\n",
       "      <td>2570</td>\n",
       "      <td>7242</td>\n",
       "      <td>2</td>\n",
       "      <td>0</td>\n",
       "      <td>0</td>\n",
       "      <td>3</td>\n",
       "      <td>7</td>\n",
       "      <td>2170</td>\n",
       "      <td>400</td>\n",
       "      <td>1951</td>\n",
       "      <td>1991</td>\n",
       "      <td>98125</td>\n",
       "      <td>47.7210</td>\n",
       "      <td>-122.319</td>\n",
       "      <td>1690</td>\n",
       "      <td>7639</td>\n",
       "      <td>538000</td>\n",
       "    </tr>\n",
       "    <tr>\n",
       "      <th>35</th>\n",
       "      <td>9547205180</td>\n",
       "      <td>3</td>\n",
       "      <td>2</td>\n",
       "      <td>2300</td>\n",
       "      <td>3060</td>\n",
       "      <td>1</td>\n",
       "      <td>0</td>\n",
       "      <td>0</td>\n",
       "      <td>3</td>\n",
       "      <td>8</td>\n",
       "      <td>1510</td>\n",
       "      <td>790</td>\n",
       "      <td>1930</td>\n",
       "      <td>2002</td>\n",
       "      <td>98115</td>\n",
       "      <td>47.6827</td>\n",
       "      <td>-122.310</td>\n",
       "      <td>1590</td>\n",
       "      <td>3264</td>\n",
       "      <td>696000</td>\n",
       "    </tr>\n",
       "    <tr>\n",
       "      <th>95</th>\n",
       "      <td>1483300570</td>\n",
       "      <td>4</td>\n",
       "      <td>2</td>\n",
       "      <td>3300</td>\n",
       "      <td>10250</td>\n",
       "      <td>1</td>\n",
       "      <td>0</td>\n",
       "      <td>0</td>\n",
       "      <td>3</td>\n",
       "      <td>7</td>\n",
       "      <td>2390</td>\n",
       "      <td>910</td>\n",
       "      <td>1946</td>\n",
       "      <td>1991</td>\n",
       "      <td>98040</td>\n",
       "      <td>47.5873</td>\n",
       "      <td>-122.249</td>\n",
       "      <td>1950</td>\n",
       "      <td>6045</td>\n",
       "      <td>905000</td>\n",
       "    </tr>\n",
       "    <tr>\n",
       "      <th>103</th>\n",
       "      <td>2450000295</td>\n",
       "      <td>3</td>\n",
       "      <td>2</td>\n",
       "      <td>2920</td>\n",
       "      <td>8113</td>\n",
       "      <td>2</td>\n",
       "      <td>0</td>\n",
       "      <td>0</td>\n",
       "      <td>3</td>\n",
       "      <td>8</td>\n",
       "      <td>2920</td>\n",
       "      <td>0</td>\n",
       "      <td>1950</td>\n",
       "      <td>2010</td>\n",
       "      <td>98004</td>\n",
       "      <td>47.5814</td>\n",
       "      <td>-122.196</td>\n",
       "      <td>2370</td>\n",
       "      <td>8113</td>\n",
       "      <td>1090000</td>\n",
       "    </tr>\n",
       "    <tr>\n",
       "      <th>115</th>\n",
       "      <td>3626039325</td>\n",
       "      <td>3</td>\n",
       "      <td>3</td>\n",
       "      <td>4380</td>\n",
       "      <td>6350</td>\n",
       "      <td>2</td>\n",
       "      <td>0</td>\n",
       "      <td>0</td>\n",
       "      <td>3</td>\n",
       "      <td>8</td>\n",
       "      <td>2780</td>\n",
       "      <td>1600</td>\n",
       "      <td>1900</td>\n",
       "      <td>1999</td>\n",
       "      <td>98117</td>\n",
       "      <td>47.6981</td>\n",
       "      <td>-122.368</td>\n",
       "      <td>1830</td>\n",
       "      <td>6350</td>\n",
       "      <td>740500</td>\n",
       "    </tr>\n",
       "    <tr>\n",
       "      <th>...</th>\n",
       "      <td>...</td>\n",
       "      <td>...</td>\n",
       "      <td>...</td>\n",
       "      <td>...</td>\n",
       "      <td>...</td>\n",
       "      <td>...</td>\n",
       "      <td>...</td>\n",
       "      <td>...</td>\n",
       "      <td>...</td>\n",
       "      <td>...</td>\n",
       "      <td>...</td>\n",
       "      <td>...</td>\n",
       "      <td>...</td>\n",
       "      <td>...</td>\n",
       "      <td>...</td>\n",
       "      <td>...</td>\n",
       "      <td>...</td>\n",
       "      <td>...</td>\n",
       "      <td>...</td>\n",
       "      <td>...</td>\n",
       "    </tr>\n",
       "    <tr>\n",
       "      <th>19606</th>\n",
       "      <td>7351200295</td>\n",
       "      <td>3</td>\n",
       "      <td>1</td>\n",
       "      <td>1760</td>\n",
       "      <td>6788</td>\n",
       "      <td>2</td>\n",
       "      <td>1</td>\n",
       "      <td>4</td>\n",
       "      <td>3</td>\n",
       "      <td>7</td>\n",
       "      <td>1760</td>\n",
       "      <td>0</td>\n",
       "      <td>1940</td>\n",
       "      <td>1960</td>\n",
       "      <td>98125</td>\n",
       "      <td>47.7336</td>\n",
       "      <td>-122.284</td>\n",
       "      <td>1630</td>\n",
       "      <td>7588</td>\n",
       "      <td>1150000</td>\n",
       "    </tr>\n",
       "    <tr>\n",
       "      <th>20041</th>\n",
       "      <td>126039256</td>\n",
       "      <td>3</td>\n",
       "      <td>2</td>\n",
       "      <td>1520</td>\n",
       "      <td>5040</td>\n",
       "      <td>2</td>\n",
       "      <td>0</td>\n",
       "      <td>0</td>\n",
       "      <td>3</td>\n",
       "      <td>7</td>\n",
       "      <td>1520</td>\n",
       "      <td>0</td>\n",
       "      <td>1977</td>\n",
       "      <td>2006</td>\n",
       "      <td>98177</td>\n",
       "      <td>47.7770</td>\n",
       "      <td>-122.362</td>\n",
       "      <td>1860</td>\n",
       "      <td>8710</td>\n",
       "      <td>434900</td>\n",
       "    </tr>\n",
       "    <tr>\n",
       "      <th>20428</th>\n",
       "      <td>4305600360</td>\n",
       "      <td>4</td>\n",
       "      <td>2</td>\n",
       "      <td>2400</td>\n",
       "      <td>9612</td>\n",
       "      <td>1</td>\n",
       "      <td>0</td>\n",
       "      <td>0</td>\n",
       "      <td>3</td>\n",
       "      <td>8</td>\n",
       "      <td>1230</td>\n",
       "      <td>1170</td>\n",
       "      <td>1962</td>\n",
       "      <td>2009</td>\n",
       "      <td>98059</td>\n",
       "      <td>47.4799</td>\n",
       "      <td>-122.127</td>\n",
       "      <td>2430</td>\n",
       "      <td>5539</td>\n",
       "      <td>500012</td>\n",
       "    </tr>\n",
       "    <tr>\n",
       "      <th>20431</th>\n",
       "      <td>3319500628</td>\n",
       "      <td>3</td>\n",
       "      <td>1</td>\n",
       "      <td>1010</td>\n",
       "      <td>1546</td>\n",
       "      <td>2</td>\n",
       "      <td>0</td>\n",
       "      <td>0</td>\n",
       "      <td>3</td>\n",
       "      <td>8</td>\n",
       "      <td>1010</td>\n",
       "      <td>0</td>\n",
       "      <td>1971</td>\n",
       "      <td>2014</td>\n",
       "      <td>98144</td>\n",
       "      <td>47.5998</td>\n",
       "      <td>-122.311</td>\n",
       "      <td>1010</td>\n",
       "      <td>1517</td>\n",
       "      <td>356999</td>\n",
       "    </tr>\n",
       "    <tr>\n",
       "      <th>20946</th>\n",
       "      <td>1278000210</td>\n",
       "      <td>2</td>\n",
       "      <td>1</td>\n",
       "      <td>828</td>\n",
       "      <td>4524</td>\n",
       "      <td>1</td>\n",
       "      <td>0</td>\n",
       "      <td>0</td>\n",
       "      <td>3</td>\n",
       "      <td>6</td>\n",
       "      <td>828</td>\n",
       "      <td>0</td>\n",
       "      <td>1968</td>\n",
       "      <td>2007</td>\n",
       "      <td>98001</td>\n",
       "      <td>47.2655</td>\n",
       "      <td>-122.244</td>\n",
       "      <td>828</td>\n",
       "      <td>5402</td>\n",
       "      <td>110000</td>\n",
       "    </tr>\n",
       "  </tbody>\n",
       "</table>\n",
       "<p>914 rows × 20 columns</p>\n",
       "</div>"
      ],
      "text/plain": [
       "               id  bedrooms  bathrooms  sqft_living  sqft_lot  floors  \\\n",
       "1      6414100192         3          2         2570      7242       2   \n",
       "35     9547205180         3          2         2300      3060       1   \n",
       "95     1483300570         4          2         3300     10250       1   \n",
       "103    2450000295         3          2         2920      8113       2   \n",
       "115    3626039325         3          3         4380      6350       2   \n",
       "...           ...       ...        ...          ...       ...     ...   \n",
       "19606  7351200295         3          1         1760      6788       2   \n",
       "20041   126039256         3          2         1520      5040       2   \n",
       "20428  4305600360         4          2         2400      9612       1   \n",
       "20431  3319500628         3          1         1010      1546       2   \n",
       "20946  1278000210         2          1          828      4524       1   \n",
       "\n",
       "       waterfront  view  condition  grade  sqft_above  sqft_basement  \\\n",
       "1               0     0          3      7        2170            400   \n",
       "35              0     0          3      8        1510            790   \n",
       "95              0     0          3      7        2390            910   \n",
       "103             0     0          3      8        2920              0   \n",
       "115             0     0          3      8        2780           1600   \n",
       "...           ...   ...        ...    ...         ...            ...   \n",
       "19606           1     4          3      7        1760              0   \n",
       "20041           0     0          3      7        1520              0   \n",
       "20428           0     0          3      8        1230           1170   \n",
       "20431           0     0          3      8        1010              0   \n",
       "20946           0     0          3      6         828              0   \n",
       "\n",
       "       yr_built  yr_renovated  zipcode      lat     long  sqft_living15  \\\n",
       "1          1951          1991    98125  47.7210 -122.319           1690   \n",
       "35         1930          2002    98115  47.6827 -122.310           1590   \n",
       "95         1946          1991    98040  47.5873 -122.249           1950   \n",
       "103        1950          2010    98004  47.5814 -122.196           2370   \n",
       "115        1900          1999    98117  47.6981 -122.368           1830   \n",
       "...         ...           ...      ...      ...      ...            ...   \n",
       "19606      1940          1960    98125  47.7336 -122.284           1630   \n",
       "20041      1977          2006    98177  47.7770 -122.362           1860   \n",
       "20428      1962          2009    98059  47.4799 -122.127           2430   \n",
       "20431      1971          2014    98144  47.5998 -122.311           1010   \n",
       "20946      1968          2007    98001  47.2655 -122.244            828   \n",
       "\n",
       "       sqft_lot15    price  \n",
       "1            7639   538000  \n",
       "35           3264   696000  \n",
       "95           6045   905000  \n",
       "103          8113  1090000  \n",
       "115          6350   740500  \n",
       "...           ...      ...  \n",
       "19606        7588  1150000  \n",
       "20041        8710   434900  \n",
       "20428        5539   500012  \n",
       "20431        1517   356999  \n",
       "20946        5402   110000  \n",
       "\n",
       "[914 rows x 20 columns]"
      ]
     },
     "execution_count": 44,
     "metadata": {},
     "output_type": "execute_result"
    }
   ],
   "source": [
    "regresion[regresion.yr_renovated != 0]"
   ]
  },
  {
   "cell_type": "markdown",
   "id": "33ea8d12",
   "metadata": {},
   "source": [
    "### Datos de la casa 11 más cara"
   ]
  },
  {
   "cell_type": "code",
   "execution_count": 45,
   "id": "37014685",
   "metadata": {
    "scrolled": true
   },
   "outputs": [
    {
     "data": {
      "text/plain": [
       "id               6.447300e+09\n",
       "bedrooms         4.000000e+00\n",
       "bathrooms        5.000000e+00\n",
       "sqft_living      7.080000e+03\n",
       "sqft_lot         1.657300e+04\n",
       "floors           2.000000e+00\n",
       "waterfront       0.000000e+00\n",
       "view             0.000000e+00\n",
       "condition        3.000000e+00\n",
       "grade            1.200000e+01\n",
       "sqft_above       5.760000e+03\n",
       "sqft_basement    1.320000e+03\n",
       "yr_built         2.008000e+03\n",
       "yr_renovated     0.000000e+00\n",
       "zipcode          9.803900e+04\n",
       "lat              4.761510e+01\n",
       "long            -1.222240e+02\n",
       "sqft_living15    3.140000e+03\n",
       "sqft_lot15       1.599600e+04\n",
       "price            4.000000e+06\n",
       "Name: 4145, dtype: float64"
      ]
     },
     "execution_count": 45,
     "metadata": {},
     "output_type": "execute_result"
    }
   ],
   "source": [
    "regresion_sorted.iloc[11]"
   ]
  }
 ],
 "metadata": {
  "kernelspec": {
   "display_name": "Python 3 (ipykernel)",
   "language": "python",
   "name": "python3"
  },
  "language_info": {
   "codemirror_mode": {
    "name": "ipython",
    "version": 3
   },
   "file_extension": ".py",
   "mimetype": "text/x-python",
   "name": "python",
   "nbconvert_exporter": "python",
   "pygments_lexer": "ipython3",
   "version": "3.9.7"
  }
 },
 "nbformat": 4,
 "nbformat_minor": 5
}
