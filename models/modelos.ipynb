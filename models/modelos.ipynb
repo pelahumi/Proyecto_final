{
 "cells": [
  {
   "cell_type": "markdown",
   "id": "06efc4d2",
   "metadata": {},
   "source": [
    "## MODELO"
   ]
  },
  {
   "cell_type": "markdown",
   "id": "2f313fe7",
   "metadata": {},
   "source": [
    "El objetivo de este trabajo es llegar a predecir el precio de las casas en función de sus características más principales. Por ello el modelo que usaremos será el modelo de regresión lineal, que se usas para predecir un número, el precio de las casas."
   ]
  },
  {
   "cell_type": "markdown",
   "id": "920da747",
   "metadata": {},
   "source": [
    "Lo primero será importar el modelo:"
   ]
  },
  {
   "cell_type": "code",
   "execution_count": 2,
   "id": "af67aab9",
   "metadata": {},
   "outputs": [],
   "source": [
    "from sklearn.linear_model import LinearRegression"
   ]
  },
  {
   "cell_type": "markdown",
   "id": "f821be0a",
   "metadata": {},
   "source": [
    "Ahora generaremos tantos modelos como scalers tengamos, en este caso tenemos tres: datos sin estandarizar, estandar escaler (sc) y min max scaler (mm)"
   ]
  },
  {
   "cell_type": "code",
   "execution_count": 3,
   "id": "f2899fe5",
   "metadata": {},
   "outputs": [],
   "source": [
    "ln = LinearRegression()\n",
    "ln_sc = LinearRegression()\n",
    "ln_mm= LinearRegression()"
   ]
  }
 ],
 "metadata": {
  "kernelspec": {
   "display_name": "Python 3 (ipykernel)",
   "language": "python",
   "name": "python3"
  },
  "language_info": {
   "codemirror_mode": {
    "name": "ipython",
    "version": 3
   },
   "file_extension": ".py",
   "mimetype": "text/x-python",
   "name": "python",
   "nbconvert_exporter": "python",
   "pygments_lexer": "ipython3",
   "version": "3.9.7"
  }
 },
 "nbformat": 4,
 "nbformat_minor": 5
}
